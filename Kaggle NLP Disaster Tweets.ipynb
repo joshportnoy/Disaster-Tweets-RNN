{
 "cells": [
  {
   "cell_type": "markdown",
   "metadata": {},
   "source": [
    "# Summary"
   ]
  },
  {
   "cell_type": "markdown",
   "metadata": {},
   "source": [
    "The Kaggle Disaster Tweets competition aims to fascillitate learning in natural language processing. With the increased use of social media in spreading emergency news, the objective of this competition is to use tweets to predict whether a natural disaster is occuring. The training data consists of 7613 tweets, each with a possible keyword, location, and text field as well as a hand-selected class label. Looking at null values, the training data is missing a location in about 1/3 of all tweets, but only 61/7613 keywords are missing. The text field, which is most important predictive variable for the models explored here, is found to have many special characters are parts of the tweets. While these could potentially be cleaned, they are left alone for now because of their potential relevance to the tweet's status as a disaster. For example, urls or special characters native to alert system tweets would be of particular interest. Upon searching for duplicates in the tweet texts, multiple instances of mislabelling was discovered. In these cases, tweets with the exact same text were given different class labels. To fix this issue, the texts were allocated to their respective classes by a majority vote and any split decisions where then manually labelled based on context. The text was then tokenized, and padded to an equal length for consistant model input.\n",
    "\n",
    "Before exploring RNN models in depth, two baseline models were constructed for comparison. First a single flat layer linear regression is trained and then evaluated on a 20% validation set for an accuracy score of 50%. Then a simple single layer RNN is similarly fitted to the training data and evaluated on a 20% holdout set for an accuracy of 47%. To embellish on the simple RNN, the first model utilizes an embedding input layer to then feed into a bidirectional LSTM with 128 units followed by a Dense 256 node layer sandwiched between two 20% dropout layers for regularization to reduce overfitting. With a learning rate of 0.0001, batch size set to 128 and 10 epochs, this model results in a validation accuracy of 0.75 on the 20% holdout set. While the first epoch of this model yielded a validation accuracy of nearly 80%, the training accuracy was less than 73% in this case so stopping at this epoch is disregarded. Nevertheless, the second model aims to address the overfitting present in Model 1 by increasing the dropout layers from 20% to 50% and reducing the number of epochs from 10 to 5. This model shows similar results, with validation accuracies decreasing from about 0.79 to 0.75 over the course of the 5 epochs. Seeing no significant change from the regularization in Model 2, Model 3 takes a different approach by utilizing two bidirectional GRU layers in place of the LSTM layer. Unfortunately, this model also results in a validation accuracy of only about 75.5%. Future work would focus on incorporating the keyword feature, further exploration of text semantics and character patterns for system alert tweets, and hyperparameter tuning for number of epochs and batch sizes.\n"
   ]
  },
  {
   "cell_type": "code",
   "execution_count": 359,
   "metadata": {
    "execution": {
     "iopub.execute_input": "2022-03-07T02:25:04.979041Z",
     "iopub.status.busy": "2022-03-07T02:25:04.978217Z",
     "iopub.status.idle": "2022-03-07T02:25:05.078062Z",
     "shell.execute_reply": "2022-03-07T02:25:05.077090Z",
     "shell.execute_reply.started": "2022-03-07T02:25:04.979008Z"
    }
   },
   "outputs": [],
   "source": [
    "import numpy as np\n",
    "import pandas as pd\n",
    "from matplotlib import pyplot\n",
    "import seaborn as sns\n",
    "\n",
    "from sklearn.model_selection import train_test_split\n",
    "\n",
    "import tensorflow as tf\n",
    "from tensorflow import keras\n",
    "\n",
    "from keras.models import Sequential, load_model\n",
    "from keras.layers import LSTM, GRU\n",
    "from keras.layers import Dense, Embedding, Bidirectional, Dropout, Flatten, SimpleRNN\n",
    "from tensorflow.python.keras.preprocessing.text import Tokenizer\n",
    "from tensorflow.python.keras.preprocessing.sequence import pad_sequences\n",
    "\n",
    "seed = 12345\n",
    "tf.random.set_seed(seed)\n",
    "from numpy.random import seed\n",
    "seed(12345)"
   ]
  },
  {
   "cell_type": "markdown",
   "metadata": {},
   "source": [
    "## Load Data"
   ]
  },
  {
   "cell_type": "code",
   "execution_count": 360,
   "metadata": {
    "execution": {
     "iopub.execute_input": "2022-03-07T02:25:05.081108Z",
     "iopub.status.busy": "2022-03-07T02:25:05.080912Z",
     "iopub.status.idle": "2022-03-07T02:25:05.121039Z",
     "shell.execute_reply": "2022-03-07T02:25:05.120271Z",
     "shell.execute_reply.started": "2022-03-07T02:25:05.081083Z"
    }
   },
   "outputs": [],
   "source": [
    "train = pd.read_csv(r'../input/nlp-getting-started/train.csv')\n",
    "test = pd.read_csv(r'../input/nlp-getting-started/test.csv')\n",
    "sample_submission = pd.read_csv(r'../input/nlp-getting-started/sample_submission.csv')"
   ]
  },
  {
   "cell_type": "code",
   "execution_count": 361,
   "metadata": {
    "execution": {
     "iopub.execute_input": "2022-03-07T02:25:05.122468Z",
     "iopub.status.busy": "2022-03-07T02:25:05.122102Z",
     "iopub.status.idle": "2022-03-07T02:25:05.135069Z",
     "shell.execute_reply": "2022-03-07T02:25:05.134277Z",
     "shell.execute_reply.started": "2022-03-07T02:25:05.122437Z"
    }
   },
   "outputs": [],
   "source": [
    "train"
   ]
  },
  {
   "cell_type": "markdown",
   "metadata": {},
   "source": [
    "## Investigating Training Data"
   ]
  },
  {
   "cell_type": "code",
   "execution_count": 362,
   "metadata": {
    "execution": {
     "iopub.execute_input": "2022-03-07T02:25:05.137628Z",
     "iopub.status.busy": "2022-03-07T02:25:05.136784Z",
     "iopub.status.idle": "2022-03-07T02:25:05.150139Z",
     "shell.execute_reply": "2022-03-07T02:25:05.149180Z",
     "shell.execute_reply.started": "2022-03-07T02:25:05.137578Z"
    }
   },
   "outputs": [],
   "source": [
    "train.isna().sum()"
   ]
  },
  {
   "cell_type": "markdown",
   "metadata": {},
   "source": [
    "__Less than 1% of tweets are missing a keyword, but about 1/3 of training data tweets are missing a location. Removing these tweets from would severely reduce the available training data, so the NaN values should be imputed instead.__"
   ]
  },
  {
   "cell_type": "code",
   "execution_count": 363,
   "metadata": {
    "execution": {
     "iopub.execute_input": "2022-03-07T02:25:05.154032Z",
     "iopub.status.busy": "2022-03-07T02:25:05.153134Z",
     "iopub.status.idle": "2022-03-07T02:25:05.164578Z",
     "shell.execute_reply": "2022-03-07T02:25:05.163764Z",
     "shell.execute_reply.started": "2022-03-07T02:25:05.153984Z"
    }
   },
   "outputs": [],
   "source": [
    "train.keyword.value_counts()"
   ]
  },
  {
   "cell_type": "code",
   "execution_count": 364,
   "metadata": {
    "execution": {
     "iopub.execute_input": "2022-03-07T02:25:05.166010Z",
     "iopub.status.busy": "2022-03-07T02:25:05.165648Z",
     "iopub.status.idle": "2022-03-07T02:25:05.178730Z",
     "shell.execute_reply": "2022-03-07T02:25:05.177890Z",
     "shell.execute_reply.started": "2022-03-07T02:25:05.165832Z"
    }
   },
   "outputs": [],
   "source": [
    "train = train.fillna('missing')"
   ]
  },
  {
   "cell_type": "code",
   "execution_count": 365,
   "metadata": {
    "execution": {
     "iopub.execute_input": "2022-03-07T02:25:05.180349Z",
     "iopub.status.busy": "2022-03-07T02:25:05.179957Z",
     "iopub.status.idle": "2022-03-07T02:25:05.197277Z",
     "shell.execute_reply": "2022-03-07T02:25:05.196845Z",
     "shell.execute_reply.started": "2022-03-07T02:25:05.180314Z"
    }
   },
   "outputs": [],
   "source": [
    "# Check for identical tweet texts (potential duplicates)\n",
    "duplicate_tweets = train[train.text.duplicated()]\n",
    "duplicate_tweets = duplicate_tweets.sort_values(by='text')\n",
    "duplicate_tweets"
   ]
  },
  {
   "cell_type": "markdown",
   "metadata": {},
   "source": [
    " - __Text cleaning needed, too many extra characters such as in \"suicide%20bomb\".__\n",
    " - __Inconsistant target labeling probably as a result of hand labeling. Same tweet text with differing target labels need to be consolidated.__"
   ]
  },
  {
   "cell_type": "markdown",
   "metadata": {},
   "source": [
    "## Duplicate Texts with different targets"
   ]
  },
  {
   "cell_type": "code",
   "execution_count": 366,
   "metadata": {
    "execution": {
     "iopub.execute_input": "2022-03-07T02:25:05.198503Z",
     "iopub.status.busy": "2022-03-07T02:25:05.198231Z",
     "iopub.status.idle": "2022-03-07T02:25:05.223287Z",
     "shell.execute_reply": "2022-03-07T02:25:05.222635Z",
     "shell.execute_reply.started": "2022-03-07T02:25:05.198473Z"
    }
   },
   "outputs": [],
   "source": [
    "hellfire = train[train['text'].str.contains(\"hellfire\", case=False)]\n",
    "hellfire"
   ]
  },
  {
   "cell_type": "code",
   "execution_count": 367,
   "metadata": {
    "execution": {
     "iopub.execute_input": "2022-03-07T02:25:05.224463Z",
     "iopub.status.busy": "2022-03-07T02:25:05.224204Z",
     "iopub.status.idle": "2022-03-07T02:25:05.246192Z",
     "shell.execute_reply": "2022-03-07T02:25:05.245416Z",
     "shell.execute_reply.started": "2022-03-07T02:25:05.224432Z"
    }
   },
   "outputs": [],
   "source": [
    "train[train['text'].str.contains(\"hellfire\", case=False)] = hellfire.assign(target=0)\n",
    "duplicate_tweets = duplicate_tweets[~duplicate_tweets['text'].str.contains(\"hellfire\", case=False)]"
   ]
  },
  {
   "cell_type": "code",
   "execution_count": 368,
   "metadata": {
    "execution": {
     "iopub.execute_input": "2022-03-07T02:25:05.247510Z",
     "iopub.status.busy": "2022-03-07T02:25:05.247297Z",
     "iopub.status.idle": "2022-03-07T02:25:05.260688Z",
     "shell.execute_reply": "2022-03-07T02:25:05.259969Z",
     "shell.execute_reply.started": "2022-03-07T02:25:05.247483Z"
    }
   },
   "outputs": [],
   "source": [
    "average_target = duplicate_tweets.groupby(by='text').mean()\n",
    "average_target"
   ]
  },
  {
   "cell_type": "code",
   "execution_count": 369,
   "metadata": {
    "execution": {
     "iopub.execute_input": "2022-03-07T02:25:05.262221Z",
     "iopub.status.busy": "2022-03-07T02:25:05.261905Z",
     "iopub.status.idle": "2022-03-07T02:25:05.534319Z",
     "shell.execute_reply": "2022-03-07T02:25:05.533801Z",
     "shell.execute_reply.started": "2022-03-07T02:25:05.262192Z"
    }
   },
   "outputs": [],
   "source": [
    "for tweet_text in average_target.index:\n",
    "    target = average_target['target'][tweet_text]\n",
    "    \n",
    "    if (target>0.5):\n",
    "        train.loc[train['text']==tweet_text] = train.loc[train['text']==tweet_text].assign(target=1)\n",
    "        average_target = average_target.drop(tweet_text)\n",
    "    elif (target < 0.5):\n",
    "        train.loc[train['text']==tweet_text] = train.loc[train['text']==tweet_text].assign(target=0)\n",
    "        average_target = average_target.drop(tweet_text)"
   ]
  },
  {
   "cell_type": "code",
   "execution_count": 370,
   "metadata": {
    "execution": {
     "iopub.execute_input": "2022-03-07T02:25:05.535535Z",
     "iopub.status.busy": "2022-03-07T02:25:05.535262Z",
     "iopub.status.idle": "2022-03-07T02:25:05.542739Z",
     "shell.execute_reply": "2022-03-07T02:25:05.541904Z",
     "shell.execute_reply.started": "2022-03-07T02:25:05.535511Z"
    }
   },
   "outputs": [],
   "source": [
    "average_target"
   ]
  },
  {
   "cell_type": "code",
   "execution_count": 371,
   "metadata": {
    "execution": {
     "iopub.execute_input": "2022-03-07T02:25:05.544052Z",
     "iopub.status.busy": "2022-03-07T02:25:05.543876Z",
     "iopub.status.idle": "2022-03-07T02:25:05.558850Z",
     "shell.execute_reply": "2022-03-07T02:25:05.558335Z",
     "shell.execute_reply.started": "2022-03-07T02:25:05.544029Z"
    }
   },
   "outputs": [],
   "source": [
    "# Hand Label\n",
    "train.loc[train['text']=='#foodscare #offers2go #NestleIndia slips into loss after #Magginoodle #ban unsafe and hazardous for #humanconsumption'] = train.loc[train['text']=='#foodscare #offers2go #NestleIndia slips into loss after #Magginoodle #ban unsafe and hazardous for #humanconsumption'].assign(target=1)\n",
    "train.loc[train['text']=='CLEARED:incident with injury:I-495 inner loop Exit 31 - MD 97/Georgia Ave Silver Spring'] = train.loc[train['text']=='CLEARED:incident with injury:I-495 inner loop Exit 31 - MD 97/Georgia Ave Silver Spring'].assign(target=1)"
   ]
  },
  {
   "cell_type": "markdown",
   "metadata": {},
   "source": [
    "# Only Using Location"
   ]
  },
  {
   "cell_type": "code",
   "execution_count": 372,
   "metadata": {
    "execution": {
     "iopub.execute_input": "2022-03-07T02:25:05.563019Z",
     "iopub.status.busy": "2022-03-07T02:25:05.562248Z",
     "iopub.status.idle": "2022-03-07T02:25:05.570846Z",
     "shell.execute_reply": "2022-03-07T02:25:05.570061Z",
     "shell.execute_reply.started": "2022-03-07T02:25:05.562983Z"
    }
   },
   "outputs": [],
   "source": [
    "loc_train = train.drop(['id', 'keyword', 'location'], axis=1)\n",
    "loc_test = test.drop(['id', 'keyword', 'location'], axis=1)"
   ]
  },
  {
   "cell_type": "code",
   "execution_count": 373,
   "metadata": {
    "execution": {
     "iopub.execute_input": "2022-03-07T02:25:05.572193Z",
     "iopub.status.busy": "2022-03-07T02:25:05.571720Z",
     "iopub.status.idle": "2022-03-07T02:25:05.584973Z",
     "shell.execute_reply": "2022-03-07T02:25:05.584090Z",
     "shell.execute_reply.started": "2022-03-07T02:25:05.572167Z"
    }
   },
   "outputs": [],
   "source": [
    "loc_train"
   ]
  },
  {
   "cell_type": "code",
   "execution_count": 374,
   "metadata": {
    "execution": {
     "iopub.execute_input": "2022-03-07T02:25:05.588655Z",
     "iopub.status.busy": "2022-03-07T02:25:05.588009Z",
     "iopub.status.idle": "2022-03-07T02:25:05.595426Z",
     "shell.execute_reply": "2022-03-07T02:25:05.594594Z",
     "shell.execute_reply.started": "2022-03-07T02:25:05.588611Z"
    }
   },
   "outputs": [],
   "source": [
    "loc_train.drop(['target'], axis=1).shape"
   ]
  },
  {
   "cell_type": "code",
   "execution_count": 375,
   "metadata": {
    "execution": {
     "iopub.execute_input": "2022-03-07T02:25:05.596855Z",
     "iopub.status.busy": "2022-03-07T02:25:05.596576Z",
     "iopub.status.idle": "2022-03-07T02:25:05.603792Z",
     "shell.execute_reply": "2022-03-07T02:25:05.603346Z",
     "shell.execute_reply.started": "2022-03-07T02:25:05.596829Z"
    }
   },
   "outputs": [],
   "source": [
    "loc_y_train =  loc_train['target'].values\n",
    "loc_X_train = loc_train.drop(['target'], axis=1).values.reshape(len(train),)\n",
    "loc_X_test = loc_test['text'].values.reshape(len(test),)"
   ]
  },
  {
   "cell_type": "markdown",
   "metadata": {},
   "source": [
    "### Preprocessing"
   ]
  },
  {
   "cell_type": "code",
   "execution_count": 376,
   "metadata": {
    "execution": {
     "iopub.execute_input": "2022-03-07T02:25:05.605509Z",
     "iopub.status.busy": "2022-03-07T02:25:05.604691Z",
     "iopub.status.idle": "2022-03-07T02:25:05.613431Z",
     "shell.execute_reply": "2022-03-07T02:25:05.612602Z",
     "shell.execute_reply.started": "2022-03-07T02:25:05.605468Z"
    }
   },
   "outputs": [],
   "source": [
    "total_tweets = np.concatenate((loc_X_train, loc_X_test))\n",
    "print('Total tweets : ', len(total_tweets))"
   ]
  },
  {
   "cell_type": "code",
   "execution_count": 377,
   "metadata": {
    "execution": {
     "iopub.execute_input": "2022-03-07T02:25:05.615252Z",
     "iopub.status.busy": "2022-03-07T02:25:05.614396Z",
     "iopub.status.idle": "2022-03-07T02:25:05.880728Z",
     "shell.execute_reply": "2022-03-07T02:25:05.879933Z",
     "shell.execute_reply.started": "2022-03-07T02:25:05.615218Z"
    }
   },
   "outputs": [],
   "source": [
    "tokenizer = Tokenizer()\n",
    "tokenizer.fit_on_texts(total_tweets)\n",
    "\n",
    "# Vocab Size\n",
    "vocab_size = len(tokenizer.word_index) + 1\n",
    "print('Size of Vocabulary : ', vocab_size)"
   ]
  },
  {
   "cell_type": "code",
   "execution_count": 378,
   "metadata": {
    "execution": {
     "iopub.execute_input": "2022-03-07T02:25:05.882707Z",
     "iopub.status.busy": "2022-03-07T02:25:05.882343Z",
     "iopub.status.idle": "2022-03-07T02:25:05.900845Z",
     "shell.execute_reply": "2022-03-07T02:25:05.900334Z",
     "shell.execute_reply.started": "2022-03-07T02:25:05.882675Z"
    }
   },
   "outputs": [],
   "source": [
    "# Maximum length for padding sequence\n",
    "maxlen = max(len(x.split()) for x in total_tweets)\n",
    "print('Maximum length of tweet : ', maxlen)"
   ]
  },
  {
   "cell_type": "code",
   "execution_count": 379,
   "metadata": {
    "execution": {
     "iopub.execute_input": "2022-03-07T02:25:05.902522Z",
     "iopub.status.busy": "2022-03-07T02:25:05.901786Z",
     "iopub.status.idle": "2022-03-07T02:25:06.233975Z",
     "shell.execute_reply": "2022-03-07T02:25:06.233185Z",
     "shell.execute_reply.started": "2022-03-07T02:25:05.902489Z"
    }
   },
   "outputs": [],
   "source": [
    "# Tokenize tweet texts\n",
    "loc_X_train_token = tokenizer.texts_to_sequences(loc_X_train)\n",
    "loc_X_test_token = tokenizer.texts_to_sequences(loc_X_test)"
   ]
  },
  {
   "cell_type": "code",
   "execution_count": 380,
   "metadata": {
    "execution": {
     "iopub.execute_input": "2022-03-07T02:25:06.235588Z",
     "iopub.status.busy": "2022-03-07T02:25:06.235299Z",
     "iopub.status.idle": "2022-03-07T02:25:06.279945Z",
     "shell.execute_reply": "2022-03-07T02:25:06.279449Z",
     "shell.execute_reply.started": "2022-03-07T02:25:06.235550Z"
    }
   },
   "outputs": [],
   "source": [
    "# Pad tweets to same input size\n",
    "loc_X_train_pad = pad_sequences(loc_X_train_token, maxlen=maxlen, padding='post')\n",
    "loc_X_test_pad = pad_sequences(loc_X_test_token, maxlen=maxlen, padding='post')"
   ]
  },
  {
   "cell_type": "markdown",
   "metadata": {},
   "source": [
    "### Baseline Models"
   ]
  },
  {
   "cell_type": "code",
   "execution_count": 381,
   "metadata": {
    "execution": {
     "iopub.execute_input": "2022-03-07T02:25:06.283622Z",
     "iopub.status.busy": "2022-03-07T02:25:06.281046Z",
     "iopub.status.idle": "2022-03-07T02:25:06.305730Z",
     "shell.execute_reply": "2022-03-07T02:25:06.304888Z",
     "shell.execute_reply.started": "2022-03-07T02:25:06.283592Z"
    }
   },
   "outputs": [],
   "source": [
    "#Linear Regression\n",
    "lin_reg_model = Sequential([\n",
    "    Flatten(input_shape=[maxlen,]),\n",
    "    Dense(1)\n",
    "])\n",
    "\n",
    "lin_reg_model.compile(loss='mean_squared_error',\n",
    "                        optimizer='Adam',\n",
    "                        metrics=['accuracy'])"
   ]
  },
  {
   "cell_type": "code",
   "execution_count": 382,
   "metadata": {
    "execution": {
     "iopub.execute_input": "2022-03-07T02:25:06.307088Z",
     "iopub.status.busy": "2022-03-07T02:25:06.306868Z",
     "iopub.status.idle": "2022-03-07T02:25:10.605237Z",
     "shell.execute_reply": "2022-03-07T02:25:10.604480Z",
     "shell.execute_reply.started": "2022-03-07T02:25:06.307062Z"
    }
   },
   "outputs": [],
   "source": [
    "lin_reg_model_history = lin_reg_model.fit(loc_X_train_pad, loc_y_train, \n",
    "                                        batch_size=32, \n",
    "                                        epochs=20, \n",
    "                                        validation_split=0.2\n",
    "                                        )"
   ]
  },
  {
   "cell_type": "code",
   "execution_count": 383,
   "metadata": {
    "execution": {
     "iopub.execute_input": "2022-03-07T02:25:10.606947Z",
     "iopub.status.busy": "2022-03-07T02:25:10.606689Z",
     "iopub.status.idle": "2022-03-07T02:25:10.619112Z",
     "shell.execute_reply": "2022-03-07T02:25:10.618254Z",
     "shell.execute_reply.started": "2022-03-07T02:25:10.606890Z"
    }
   },
   "outputs": [],
   "source": [
    "lin_reg_losses = pd.DataFrame(lin_reg_model_history.history)\n",
    "lin_reg_losses.head()"
   ]
  },
  {
   "cell_type": "code",
   "execution_count": 384,
   "metadata": {
    "execution": {
     "iopub.execute_input": "2022-03-07T02:25:10.621461Z",
     "iopub.status.busy": "2022-03-07T02:25:10.620506Z",
     "iopub.status.idle": "2022-03-07T02:25:10.799802Z",
     "shell.execute_reply": "2022-03-07T02:25:10.799156Z",
     "shell.execute_reply.started": "2022-03-07T02:25:10.621419Z"
    }
   },
   "outputs": [],
   "source": [
    "#Ploting Loss Vs Val_Loss\n",
    "lin_reg_losses[['loss','val_loss']].plot()"
   ]
  },
  {
   "cell_type": "code",
   "execution_count": 385,
   "metadata": {
    "execution": {
     "iopub.execute_input": "2022-03-07T02:25:10.801379Z",
     "iopub.status.busy": "2022-03-07T02:25:10.801005Z",
     "iopub.status.idle": "2022-03-07T02:25:10.992401Z",
     "shell.execute_reply": "2022-03-07T02:25:10.990989Z",
     "shell.execute_reply.started": "2022-03-07T02:25:10.801346Z"
    }
   },
   "outputs": [],
   "source": [
    "#Plotting  Accutacy vs Val_accuracy\n",
    "lin_reg_losses[['accuracy','val_accuracy']].plot()"
   ]
  },
  {
   "cell_type": "code",
   "execution_count": 386,
   "metadata": {
    "execution": {
     "iopub.execute_input": "2022-03-07T02:25:10.993718Z",
     "iopub.status.busy": "2022-03-07T02:25:10.993394Z",
     "iopub.status.idle": "2022-03-07T02:25:10.999308Z",
     "shell.execute_reply": "2022-03-07T02:25:10.998563Z",
     "shell.execute_reply.started": "2022-03-07T02:25:10.993685Z"
    }
   },
   "outputs": [],
   "source": [
    "loc_y_train.shape"
   ]
  },
  {
   "cell_type": "code",
   "execution_count": 387,
   "metadata": {
    "execution": {
     "iopub.execute_input": "2022-03-07T02:25:11.000598Z",
     "iopub.status.busy": "2022-03-07T02:25:11.000370Z",
     "iopub.status.idle": "2022-03-07T02:25:11.009180Z",
     "shell.execute_reply": "2022-03-07T02:25:11.008505Z",
     "shell.execute_reply.started": "2022-03-07T02:25:11.000567Z"
    }
   },
   "outputs": [],
   "source": [
    "simple_rnn_loc_X_train_pad = loc_X_train_pad.reshape(-1, 1, 31)\n",
    "simple_rnn_loc_y_train = loc_y_train.reshape(-1, 1)\n",
    "input_shape=(1, 31)"
   ]
  },
  {
   "cell_type": "code",
   "execution_count": 388,
   "metadata": {
    "execution": {
     "iopub.execute_input": "2022-03-07T02:25:11.010291Z",
     "iopub.status.busy": "2022-03-07T02:25:11.010068Z",
     "iopub.status.idle": "2022-03-07T02:25:11.062770Z",
     "shell.execute_reply": "2022-03-07T02:25:11.062255Z",
     "shell.execute_reply.started": "2022-03-07T02:25:11.010258Z"
    }
   },
   "outputs": [],
   "source": [
    "#Simple RNN\n",
    "simple_rnn_model = Sequential([\n",
    "    SimpleRNN(1,input_shape=input_shape),\n",
    "])\n",
    "\n",
    "simple_rnn_model.compile(loss='mean_squared_error',\n",
    "                        optimizer='Adam',\n",
    "                        metrics=['accuracy'])"
   ]
  },
  {
   "cell_type": "code",
   "execution_count": 389,
   "metadata": {
    "execution": {
     "iopub.execute_input": "2022-03-07T02:25:11.064402Z",
     "iopub.status.busy": "2022-03-07T02:25:11.064020Z",
     "iopub.status.idle": "2022-03-07T02:25:17.817862Z",
     "shell.execute_reply": "2022-03-07T02:25:17.817028Z",
     "shell.execute_reply.started": "2022-03-07T02:25:11.064368Z"
    }
   },
   "outputs": [],
   "source": [
    "\n",
    "simple_rnn_model_history = simple_rnn_model.fit(simple_rnn_loc_X_train_pad, simple_rnn_loc_y_train, \n",
    "                                        batch_size=32, \n",
    "                                        epochs=20, \n",
    "                                        validation_split=0.2\n",
    "                                        )"
   ]
  },
  {
   "cell_type": "code",
   "execution_count": 390,
   "metadata": {
    "execution": {
     "iopub.execute_input": "2022-03-07T02:25:17.820411Z",
     "iopub.status.busy": "2022-03-07T02:25:17.819835Z",
     "iopub.status.idle": "2022-03-07T02:25:17.832969Z",
     "shell.execute_reply": "2022-03-07T02:25:17.832277Z",
     "shell.execute_reply.started": "2022-03-07T02:25:17.820364Z"
    }
   },
   "outputs": [],
   "source": [
    "simple_rnn_losses = pd.DataFrame(simple_rnn_model_history.history)\n",
    "simple_rnn_losses.head()"
   ]
  },
  {
   "cell_type": "code",
   "execution_count": 391,
   "metadata": {
    "execution": {
     "iopub.execute_input": "2022-03-07T02:25:17.834846Z",
     "iopub.status.busy": "2022-03-07T02:25:17.834018Z",
     "iopub.status.idle": "2022-03-07T02:25:18.021587Z",
     "shell.execute_reply": "2022-03-07T02:25:18.020780Z",
     "shell.execute_reply.started": "2022-03-07T02:25:17.834817Z"
    }
   },
   "outputs": [],
   "source": [
    "#Ploting Loss Vs Val_Loss\n",
    "simple_rnn_losses[['loss','val_loss']].plot()"
   ]
  },
  {
   "cell_type": "code",
   "execution_count": 392,
   "metadata": {
    "execution": {
     "iopub.execute_input": "2022-03-07T02:25:18.023363Z",
     "iopub.status.busy": "2022-03-07T02:25:18.023135Z",
     "iopub.status.idle": "2022-03-07T02:25:18.238610Z",
     "shell.execute_reply": "2022-03-07T02:25:18.238024Z",
     "shell.execute_reply.started": "2022-03-07T02:25:18.023333Z"
    }
   },
   "outputs": [],
   "source": [
    "#Plotting  Accutacy vs Val_accuracy\n",
    "simple_rnn_losses[['accuracy','val_accuracy']].plot()"
   ]
  },
  {
   "cell_type": "markdown",
   "metadata": {},
   "source": [
    "### Model 1"
   ]
  },
  {
   "cell_type": "code",
   "execution_count": 393,
   "metadata": {
    "execution": {
     "iopub.execute_input": "2022-03-07T02:25:18.240046Z",
     "iopub.status.busy": "2022-03-07T02:25:18.239739Z",
     "iopub.status.idle": "2022-03-07T02:25:18.634575Z",
     "shell.execute_reply": "2022-03-07T02:25:18.633754Z",
     "shell.execute_reply.started": "2022-03-07T02:25:18.240017Z"
    }
   },
   "outputs": [],
   "source": [
    "hidden_units = 128\n",
    "embed_units = 128\n",
    "\n",
    "model_1 = Sequential()\n",
    "model_1.add(Embedding(vocab_size, embed_units, input_length = maxlen))\n",
    "model_1.add(Bidirectional(LSTM(hidden_units)))\n",
    "model_1.add(Dropout(0.2))\n",
    "model_1.add(Dense(256, activation='relu'))\n",
    "model_1.add(Dropout(0.2))\n",
    "model_1.add(Dense(1, activation='sigmoid'))\n",
    "\n",
    "model_1.summary()"
   ]
  },
  {
   "cell_type": "code",
   "execution_count": 394,
   "metadata": {
    "execution": {
     "iopub.execute_input": "2022-03-07T02:25:18.636033Z",
     "iopub.status.busy": "2022-03-07T02:25:18.635833Z",
     "iopub.status.idle": "2022-03-07T02:25:18.645843Z",
     "shell.execute_reply": "2022-03-07T02:25:18.645151Z",
     "shell.execute_reply.started": "2022-03-07T02:25:18.636004Z"
    }
   },
   "outputs": [],
   "source": [
    "learning_rate = 0.0001\n",
    "\n",
    "model_1.compile(loss = 'binary_crossentropy',\n",
    "              optimizer = 'adam',\n",
    "              metrics = ['accuracy'])"
   ]
  },
  {
   "cell_type": "code",
   "execution_count": null,
   "metadata": {
    "execution": {
     "iopub.execute_input": "2022-03-07T02:25:18.647062Z",
     "iopub.status.busy": "2022-03-07T02:25:18.646879Z"
    }
   },
   "outputs": [],
   "source": [
    "batch_size = 128\n",
    "epochs = 10\n",
    "steps_per_epoch = loc_X_train_pad.shape[0] // batch_size\n",
    "\n",
    "model_1_history = model_1.fit(loc_X_train_pad, loc_y_train, \n",
    "                          batch_size=batch_size, \n",
    "                          epochs=epochs,\n",
    "                          steps_per_epoch = steps_per_epoch,\n",
    "                          validation_split=0.2)"
   ]
  },
  {
   "cell_type": "code",
   "execution_count": null,
   "metadata": {},
   "outputs": [],
   "source": [
    "model_1_losses = pd.DataFrame(model_1_history.history)\n",
    "model_1_losses.head()"
   ]
  },
  {
   "cell_type": "code",
   "execution_count": null,
   "metadata": {},
   "outputs": [],
   "source": [
    "#Ploting Loss Vs Val_Loss\n",
    "model_1_losses[['loss','val_loss']].plot()"
   ]
  },
  {
   "cell_type": "code",
   "execution_count": null,
   "metadata": {},
   "outputs": [],
   "source": [
    "#Ploting Loss Vs Val_Loss\n",
    "model_1_losses[['accuracy','val_accuracy']].plot()"
   ]
  },
  {
   "cell_type": "markdown",
   "metadata": {},
   "source": [
    "### Model 2 - 0.5 vs 0.2 Dropout Layers"
   ]
  },
  {
   "cell_type": "code",
   "execution_count": null,
   "metadata": {},
   "outputs": [],
   "source": [
    "hidden_units = 128\n",
    "embed_units = 128\n",
    "\n",
    "model_2 = Sequential()\n",
    "model_2.add(Embedding(vocab_size, embed_units, input_length = maxlen))\n",
    "model_2.add(Bidirectional(LSTM(hidden_units)))\n",
    "model_2.add(Dropout(0.5))\n",
    "model_2.add(Dense(256, activation='relu'))\n",
    "model_2.add(Dropout(0.5))\n",
    "model_2.add(Dense(1, activation='sigmoid'))\n",
    "\n",
    "model_1.summary()"
   ]
  },
  {
   "cell_type": "code",
   "execution_count": null,
   "metadata": {},
   "outputs": [],
   "source": [
    "learning_rate = 0.0001\n",
    "\n",
    "model_2.compile(loss = 'binary_crossentropy',\n",
    "              optimizer = 'adam',\n",
    "              metrics = ['accuracy'])"
   ]
  },
  {
   "cell_type": "code",
   "execution_count": null,
   "metadata": {},
   "outputs": [],
   "source": [
    "batch_size = 128\n",
    "epochs = 5\n",
    "steps_per_epoch = loc_X_train_pad.shape[0] // batch_size\n",
    "\n",
    "model_2_history = model_2.fit(loc_X_train_pad, loc_y_train, \n",
    "                          batch_size=batch_size, \n",
    "                          epochs=epochs,\n",
    "                          steps_per_epoch = steps_per_epoch,\n",
    "                          validation_split=0.2)"
   ]
  },
  {
   "cell_type": "code",
   "execution_count": null,
   "metadata": {},
   "outputs": [],
   "source": [
    "model_2_losses = pd.DataFrame(model_2_history.history)\n",
    "model_2_losses.head()"
   ]
  },
  {
   "cell_type": "code",
   "execution_count": null,
   "metadata": {},
   "outputs": [],
   "source": [
    "#Ploting Loss Vs Val_Loss\n",
    "model_2_losses[['loss','val_loss']].plot()"
   ]
  },
  {
   "cell_type": "code",
   "execution_count": null,
   "metadata": {},
   "outputs": [],
   "source": [
    "#Ploting Loss Vs Val_Loss\n",
    "model_2_losses[['accuracy','val_accuracy']].plot()"
   ]
  },
  {
   "cell_type": "markdown",
   "metadata": {},
   "source": [
    "### Model 3 - Two GRU Layers"
   ]
  },
  {
   "cell_type": "code",
   "execution_count": null,
   "metadata": {},
   "outputs": [],
   "source": [
    "hidden_units = 128\n",
    "embed_units = 128\n",
    "\n",
    "model_3 = Sequential()\n",
    "model_3.add(Embedding(vocab_size, embed_units, input_length = maxlen))\n",
    "model_3.add(Bidirectional(GRU(hidden_units,return_sequences=True)))\n",
    "model_3.add(Bidirectional(GRU(hidden_units)))\n",
    "model_3.add(Dropout(0.5))\n",
    "model_3.add(Dense(256, activation='relu'))\n",
    "model_3.add(Dropout(0.5))\n",
    "model_3.add(Dense(1, activation='sigmoid'))\n",
    "\n",
    "model_3.summary()"
   ]
  },
  {
   "cell_type": "code",
   "execution_count": null,
   "metadata": {},
   "outputs": [],
   "source": [
    "learning_rate = 0.0001\n",
    "\n",
    "model_3.compile(loss = 'binary_crossentropy',\n",
    "              optimizer = 'adam',\n",
    "              metrics = ['accuracy'])"
   ]
  },
  {
   "cell_type": "code",
   "execution_count": null,
   "metadata": {},
   "outputs": [],
   "source": [
    "loc_X_train_pad.shape[0] // batch_size"
   ]
  },
  {
   "cell_type": "code",
   "execution_count": null,
   "metadata": {},
   "outputs": [],
   "source": [
    "batch_size = 512\n",
    "epochs = 5\n",
    "steps_per_epoch = loc_X_train_pad.shape[0] // batch_size\n",
    "\n",
    "model_3_history = model_3.fit(loc_X_train_pad, loc_y_train, \n",
    "                          batch_size=batch_size, \n",
    "                          epochs=epochs,\n",
    "                          steps_per_epoch = steps_per_epoch,\n",
    "                          validation_split=0.2)"
   ]
  },
  {
   "cell_type": "code",
   "execution_count": null,
   "metadata": {},
   "outputs": [],
   "source": [
    "model_3_losses = pd.DataFrame(model_3_history.history)\n",
    "model_3_losses.head()"
   ]
  },
  {
   "cell_type": "code",
   "execution_count": null,
   "metadata": {},
   "outputs": [],
   "source": [
    "#Ploting Loss Vs Val_Loss\n",
    "model_3_losses[['loss','val_loss']].plot()"
   ]
  },
  {
   "cell_type": "code",
   "execution_count": null,
   "metadata": {},
   "outputs": [],
   "source": [
    "#Ploting Loss Vs Val_Loss\n",
    "model_3_losses[['accuracy','val_accuracy']].plot()"
   ]
  },
  {
   "cell_type": "code",
   "execution_count": null,
   "metadata": {},
   "outputs": [],
   "source": [
    "pred = model_3.predict(loc_X_test_pad)"
   ]
  },
  {
   "cell_type": "code",
   "execution_count": null,
   "metadata": {},
   "outputs": [],
   "source": [
    "sample_submission[\"target\"] = pred\n",
    "sample_submission[\"target\"] = sample_submission[\"target\"].apply(lambda x : 0 if x<=.5 else 1)\n",
    "sample_submission.head()"
   ]
  },
  {
   "cell_type": "code",
   "execution_count": null,
   "metadata": {},
   "outputs": [],
   "source": [
    "sample_submission.to_csv(\"model_3_RNN.csv\", index=False)"
   ]
  },
  {
   "attachments": {
    "f20aeff2-629b-4f86-879b-4201e8ffc35b.jpg": {
     "image/jpeg": "[encoded data removed]"
    }
   },
   "cell_type": "markdown",
   "metadata": {},
   "source": [
    "![model_3_RNN.jpg](attachment:f20aeff2-629b-4f86-879b-4201e8ffc35b.jpg)"
   ]
  }
 ],
 "metadata": {
  "kernelspec": {
   "display_name": "Python 3 (ipykernel)",
   "language": "python",
   "name": "python3"
  },
  "language_info": {
   "codemirror_mode": {
    "name": "ipython",
    "version": 3
   },
   "file_extension": ".py",
   "mimetype": "text/x-python",
   "name": "python",
   "nbconvert_exporter": "python",
   "pygments_lexer": "ipython3",
   "version": "3.9.7"
  }
 },
 "nbformat": 4,
 "nbformat_minor": 4
}
